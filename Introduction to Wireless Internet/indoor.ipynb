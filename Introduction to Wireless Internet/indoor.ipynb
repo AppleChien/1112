{
  "nbformat": 4,
  "nbformat_minor": 0,
  "metadata": {
    "colab": {
      "provenance": []
    },
    "kernelspec": {
      "name": "python3",
      "display_name": "Python 3"
    },
    "language_info": {
      "name": "python"
    }
  },
  "cells": [
    {
      "cell_type": "code",
      "execution_count": 552,
      "metadata": {
        "colab": {
          "base_uri": "https://localhost:8080/"
        },
        "id": "md4G304O1NAO",
        "outputId": "125e305d-91a2-4477-adf5-d96a193a3c9f"
      },
      "outputs": [
        {
          "output_type": "stream",
          "name": "stdout",
          "text": [
            "Drive already mounted at /content/drive; to attempt to forcibly remount, call drive.mount(\"/content/drive\", force_remount=True).\n"
          ]
        }
      ],
      "source": [
        "import os\n",
        "from google.colab import drive\n",
        "drive.mount('/content/drive')"
      ]
    },
    {
      "cell_type": "code",
      "source": [
        "os.chdir('/content/drive/My Drive/無線網路_室內定位') #切換該目錄\n",
        "os.listdir()"
      ],
      "metadata": {
        "colab": {
          "base_uri": "https://localhost:8080/"
        },
        "id": "_IkCJ09z1Q0T",
        "outputId": "2d528076-8b9b-4b47-d2df-0bed821fbb4b"
      },
      "execution_count": 553,
      "outputs": [
        {
          "output_type": "execute_result",
          "data": {
            "text/plain": [
              "['ValidationData.csv',\n",
              " 'TrainingData.csv',\n",
              " 'output.csv',\n",
              " '讀csv檔案.ipynb',\n",
              " '無線網路_室內定位書面報告.gdoc',\n",
              " 'indoor_test.ipynb',\n",
              " 'indoor_6 2.ipynb',\n",
              " 'output_TrainingData.csv',\n",
              " 'output_ValidationData.csv',\n",
              " 'indoor_6 2.ipynb 的副本']"
            ]
          },
          "metadata": {},
          "execution_count": 553
        }
      ]
    },
    {
      "cell_type": "code",
      "source": [
        "from posix import system\n",
        "import csv\n",
        "import pandas as pd\n",
        "\n",
        "from sklearn import datasets\n",
        "from sklearn.model_selection import train_test_split\n",
        "from sklearn.neighbors import KNeighborsClassifier\n",
        "import numpy as np\n",
        "\n",
        "from sklearn.linear_model import LinearRegression\n",
        "import matplotlib.pyplot as plt\n",
        "\n",
        "from sklearn import preprocessing\n",
        "from sklearn.model_selection import train_test_split\n",
        "from sklearn.datasets import make_classification\n",
        "from sklearn.svm import SVC"
      ],
      "metadata": {
        "id": "EBzgEyLU-riP"
      },
      "execution_count": 554,
      "outputs": []
    },
    {
      "cell_type": "code",
      "source": [
        "#讀檔 => 寫檔\n",
        "#創建只有 building 0 的資料csv"
      ],
      "metadata": {
        "id": "QNY2dnZy-wJf"
      },
      "execution_count": 555,
      "outputs": []
    },
    {
      "cell_type": "code",
      "source": [
        "temp = []\n",
        "with open('TrainingData.csv', newline='') as csvfile:\n",
        "  # 讀取 CSV 檔案內容\n",
        "  rows = csv.reader(csvfile)\n",
        "\n",
        "  # 以迴圈輸出每一列\n",
        "  for row in rows:\n",
        "    if row[523]== \"BUILDINGID\" or row[523] == '0':\n",
        "      temp.append(row)\n",
        "\n",
        "# 開啟輸出的 CSV 檔案\n",
        "with open('output_TrainingData.csv', 'w', newline='') as csvfile:\n",
        "  # 建立 CSV 檔寫入器\n",
        "  writer = csv.writer(csvfile)\n",
        "\n",
        "  # 寫入一列資料\n",
        "  for tep in temp:\n",
        "    writer.writerow(tep)"
      ],
      "metadata": {
        "id": "2aFhRHqA1Szw"
      },
      "execution_count": 556,
      "outputs": []
    },
    {
      "cell_type": "code",
      "source": [
        "temp = []\n",
        "with open('ValidationData.csv', newline='') as csvfile:\n",
        "  # 讀取 CSV 檔案內容\n",
        "  rows = csv.reader(csvfile)\n",
        "\n",
        " # 以迴圈輸出每一列\n",
        "  for row in rows:\n",
        "    if row[523]== \"BUILDINGID\" or row[523] == '0':\n",
        "      temp.append(row)\n",
        "\n",
        "# 開啟輸出的 CSV 檔案\n",
        "with open('output_ValidationData.csv', 'w', newline='') as csvfile:\n",
        "  # 建立 CSV 檔寫入器\n",
        "  writer = csv.writer(csvfile)\n",
        "\n",
        "  # 寫入一列資料\n",
        "  for tep in temp:\n",
        "    writer.writerow(tep)"
      ],
      "metadata": {
        "id": "JVlrXjwO7bYh"
      },
      "execution_count": 557,
      "outputs": []
    },
    {
      "cell_type": "code",
      "source": [
        "data_train = pd.read_csv('output_TrainingData.csv')\n",
        "data_test = pd.read_csv('output_ValidationData.csv')"
      ],
      "metadata": {
        "id": "YYfZjZZd-cAR"
      },
      "execution_count": 558,
      "outputs": []
    },
    {
      "cell_type": "code",
      "source": [
        "#-----分析訓練資料-----"
      ],
      "metadata": {
        "id": "9r5-Qpn3yxZ8"
      },
      "execution_count": 559,
      "outputs": []
    },
    {
      "cell_type": "code",
      "source": [
        "data_train[['BUILDINGID','FLOOR']].groupby(['BUILDINGID','FLOOR']).size()"
      ],
      "metadata": {
        "colab": {
          "base_uri": "https://localhost:8080/"
        },
        "id": "Wfrv2m4o-2LA",
        "outputId": "58c69032-f69c-497c-b13d-648b2addb374"
      },
      "execution_count": 560,
      "outputs": [
        {
          "output_type": "execute_result",
          "data": {
            "text/plain": [
              "BUILDINGID  FLOOR\n",
              "0           0        1059\n",
              "            1        1356\n",
              "            2        1443\n",
              "            3        1391\n",
              "dtype: int64"
            ]
          },
          "metadata": {},
          "execution_count": 560
        }
      ]
    },
    {
      "cell_type": "code",
      "source": [
        "data_train.plot.scatter('LONGITUDE', 'LATITUDE')"
      ],
      "metadata": {
        "colab": {
          "base_uri": "https://localhost:8080/",
          "height": 486
        },
        "id": "uWx2_RQ2-52_",
        "outputId": "3ab4f384-984f-4be9-b56f-4b2d622f63a4"
      },
      "execution_count": 561,
      "outputs": [
        {
          "output_type": "execute_result",
          "data": {
            "text/plain": [
              "<Axes: xlabel='LONGITUDE', ylabel='LATITUDE'>"
            ]
          },
          "metadata": {},
          "execution_count": 561
        },
        {
          "output_type": "display_data",
          "data": {
            "text/plain": [
              "<Figure size 640x480 with 1 Axes>"
            ],
            "image/png": "[encoded data removed]"
          },
          "metadata": {}
        }
      ]
    },
    {
      "cell_type": "code",
      "source": [
        "#-----分析測試資料-----"
      ],
      "metadata": {
        "id": "ddMZnZmmy4Kj"
      },
      "execution_count": 562,
      "outputs": []
    },
    {
      "cell_type": "code",
      "source": [
        "data_test[['BUILDINGID','FLOOR']].groupby(['BUILDINGID','FLOOR']).size()"
      ],
      "metadata": {
        "colab": {
          "base_uri": "https://localhost:8080/"
        },
        "id": "Bwe4altl_Ang",
        "outputId": "8642f828-7d0d-42a1-b7fd-ef55216164b3"
      },
      "execution_count": 563,
      "outputs": [
        {
          "output_type": "execute_result",
          "data": {
            "text/plain": [
              "BUILDINGID  FLOOR\n",
              "0           0         78\n",
              "            1        208\n",
              "            2        165\n",
              "            3         85\n",
              "dtype: int64"
            ]
          },
          "metadata": {},
          "execution_count": 563
        }
      ]
    },
    {
      "cell_type": "code",
      "source": [
        "data_test.plot.scatter('LONGITUDE', 'LATITUDE')"
      ],
      "metadata": {
        "colab": {
          "base_uri": "https://localhost:8080/",
          "height": 486
        },
        "id": "NThj5WOl_DXn",
        "outputId": "9f85b611-cd0f-40d2-ffa8-db82918f2b38"
      },
      "execution_count": 564,
      "outputs": [
        {
          "output_type": "execute_result",
          "data": {
            "text/plain": [
              "<Axes: xlabel='LONGITUDE', ylabel='LATITUDE'>"
            ]
          },
          "metadata": {},
          "execution_count": 564
        },
        {
          "output_type": "display_data",
          "data": {
            "text/plain": [
              "<Figure size 640x480 with 1 Axes>"
            ],
            "image/png": "[encoded data removed]"
          },
          "metadata": {}
        }
      ]
    },
    {
      "cell_type": "code",
      "source": [
        "#特徵資料\n",
        "temp_data = data_train.iloc[:, :520]\n",
        "print(temp_data)"
      ],
      "metadata": {
        "colab": {
          "base_uri": "https://localhost:8080/"
        },
        "id": "t6r1pQTlH9f_",
        "outputId": "f3e1f280-f839-4377-8eb0-4657f1f40732"
      },
      "execution_count": 565,
      "outputs": [
        {
          "output_type": "stream",
          "name": "stdout",
          "text": [
            "      WAP001  WAP002  WAP003  WAP004  WAP005  WAP006  WAP007  WAP008  WAP009  \\\n",
            "0        100     100     100     100     100     100     100     100     100   \n",
            "1        100     100     100     100     100     100     100     100     100   \n",
            "2        100     100     100     100     100     100     100     100     100   \n",
            "3        100     100     100     100     100     100     100     100     100   \n",
            "4        100     100     100     100     100     100     100     100     100   \n",
            "...      ...     ...     ...     ...     ...     ...     ...     ...     ...   \n",
            "5244     100     100     100     100     100     100     100     100     100   \n",
            "5245     100     100     100     100     100     100     100     100     -75   \n",
            "5246     100     100     100     100     100     100     100     100     -88   \n",
            "5247     100     100     100     100     100     100     100     100     -66   \n",
            "5248     100     100     100     100     100     100     100     100     -70   \n",
            "\n",
            "      WAP010  ...  WAP511  WAP512  WAP513  WAP514  WAP515  WAP516  WAP517  \\\n",
            "0        100  ...     100     100     100     100     100     100     100   \n",
            "1        100  ...     100     100     100     100     100     100     100   \n",
            "2        100  ...     100     100     100     100     100     100     100   \n",
            "3        100  ...     100     100     100     100     100     100     100   \n",
            "4        100  ...     100     100     100     100     100     100     100   \n",
            "...      ...  ...     ...     ...     ...     ...     ...     ...     ...   \n",
            "5244     100  ...     100     100     100     100     100     100     100   \n",
            "5245     100  ...     100     100     100     100     100     100     100   \n",
            "5246     100  ...     100     100     100     100     100     100     100   \n",
            "5247     100  ...     100     100     100     100     100     100     100   \n",
            "5248     100  ...     100     100     100     100     100     100     100   \n",
            "\n",
            "      WAP518  WAP519  WAP520  \n",
            "0        100     100     100  \n",
            "1        100     100     100  \n",
            "2        100     100     100  \n",
            "3        100     100     100  \n",
            "4        100     100     100  \n",
            "...      ...     ...     ...  \n",
            "5244     100     100     100  \n",
            "5245     100     100     100  \n",
            "5246     100     100     100  \n",
            "5247     100     100     100  \n",
            "5248     100     100     100  \n",
            "\n",
            "[5249 rows x 520 columns]\n"
          ]
        }
      ]
    },
    {
      "cell_type": "code",
      "source": [
        "#標籤\n",
        "temp_label = data_train.iloc[:, 522:523]\n",
        "print(temp_label)"
      ],
      "metadata": {
        "colab": {
          "base_uri": "https://localhost:8080/"
        },
        "id": "QfOCWKxeKvWI",
        "outputId": "45d174c1-38d4-4f6e-af83-115e2af8fab9"
      },
      "execution_count": 566,
      "outputs": [
        {
          "output_type": "stream",
          "name": "stdout",
          "text": [
            "      FLOOR\n",
            "0         0\n",
            "1         0\n",
            "2         0\n",
            "3         0\n",
            "4         0\n",
            "...     ...\n",
            "5244      3\n",
            "5245      3\n",
            "5246      3\n",
            "5247      3\n",
            "5248      3\n",
            "\n",
            "[5249 rows x 1 columns]\n"
          ]
        }
      ]
    },
    {
      "cell_type": "code",
      "source": [
        "#將資料分成兩個部分：訓練資料與測試資料 訓練0.8 測試0.2\n",
        "train_data , test_data , train_label , test_label = train_test_split(temp_data,temp_label,test_size=0.2)"
      ],
      "metadata": {
        "id": "xr7XNXRILKCH"
      },
      "execution_count": 567,
      "outputs": []
    },
    {
      "cell_type": "code",
      "source": [
        "#改knn值\n",
        "knn = KNeighborsClassifier(n_neighbors=1)\n",
        "#將資料做訓練\n",
        "knn.fit(temp_data,temp_label)"
      ],
      "metadata": {
        "colab": {
          "base_uri": "https://localhost:8080/",
          "height": 129
        },
        "id": "_UlwBM5iLqm4",
        "outputId": "492958bf-b2d1-4848-ef3a-397c8557254d"
      },
      "execution_count": 568,
      "outputs": [
        {
          "output_type": "stream",
          "name": "stderr",
          "text": [
            "/usr/local/lib/python3.10/dist-packages/sklearn/neighbors/_classification.py:215: DataConversionWarning: A column-vector y was passed when a 1d array was expected. Please change the shape of y to (n_samples,), for example using ravel().\n",
            "  return self._fit(X, y)\n"
          ]
        },
        {
          "output_type": "execute_result",
          "data": {
            "text/plain": [
              "KNeighborsClassifier(n_neighbors=1)"
            ],
            "text/html": [
              "<style>#sk-container-id-19 {color: black;background-color: white;}#sk-container-id-19 pre{padding: 0;}#sk-container-id-19 div.sk-toggleable {background-color: white;}#sk-container-id-19 label.sk-toggleable__label {cursor: pointer;display: block;width: 100%;margin-bottom: 0;padding: 0.3em;box-sizing: border-box;text-align: center;}#sk-container-id-19 label.sk-toggleable__label-arrow:before {content: \"▸\";float: left;margin-right: 0.25em;color: #696969;}#sk-container-id-19 label.sk-toggleable__label-arrow:hover:before {color: black;}#sk-container-id-19 div.sk-estimator:hover label.sk-toggleable__label-arrow:before {color: black;}#sk-container-id-19 div.sk-toggleable__content {max-height: 0;max-width: 0;overflow: hidden;text-align: left;background-color: #f0f8ff;}#sk-container-id-19 div.sk-toggleable__content pre {margin: 0.2em;color: black;border-radius: 0.25em;background-color: #f0f8ff;}#sk-container-id-19 input.sk-toggleable__control:checked~div.sk-toggleable__content {max-height: 200px;max-width: 100%;overflow: auto;}#sk-container-id-19 input.sk-toggleable__control:checked~label.sk-toggleable__label-arrow:before {content: \"▾\";}#sk-container-id-19 div.sk-estimator input.sk-toggleable__control:checked~label.sk-toggleable__label {background-color: #d4ebff;}#sk-container-id-19 div.sk-label input.sk-toggleable__control:checked~label.sk-toggleable__label {background-color: #d4ebff;}#sk-container-id-19 input.sk-hidden--visually {border: 0;clip: rect(1px 1px 1px 1px);clip: rect(1px, 1px, 1px, 1px);height: 1px;margin: -1px;overflow: hidden;padding: 0;position: absolute;width: 1px;}#sk-container-id-19 div.sk-estimator {font-family: monospace;background-color: #f0f8ff;border: 1px dotted black;border-radius: 0.25em;box-sizing: border-box;margin-bottom: 0.5em;}#sk-container-id-19 div.sk-estimator:hover {background-color: #d4ebff;}#sk-container-id-19 div.sk-parallel-item::after {content: \"\";width: 100%;border-bottom: 1px solid gray;flex-grow: 1;}#sk-container-id-19 div.sk-label:hover label.sk-toggleable__label {background-color: #d4ebff;}#sk-container-id-19 div.sk-serial::before {content: \"\";position: absolute;border-left: 1px solid gray;box-sizing: border-box;top: 0;bottom: 0;left: 50%;z-index: 0;}#sk-container-id-19 div.sk-serial {display: flex;flex-direction: column;align-items: center;background-color: white;padding-right: 0.2em;padding-left: 0.2em;position: relative;}#sk-container-id-19 div.sk-item {position: relative;z-index: 1;}#sk-container-id-19 div.sk-parallel {display: flex;align-items: stretch;justify-content: center;background-color: white;position: relative;}#sk-container-id-19 div.sk-item::before, #sk-container-id-19 div.sk-parallel-item::before {content: \"\";position: absolute;border-left: 1px solid gray;box-sizing: border-box;top: 0;bottom: 0;left: 50%;z-index: -1;}#sk-container-id-19 div.sk-parallel-item {display: flex;flex-direction: column;z-index: 1;position: relative;background-color: white;}#sk-container-id-19 div.sk-parallel-item:first-child::after {align-self: flex-end;width: 50%;}#sk-container-id-19 div.sk-parallel-item:last-child::after {align-self: flex-start;width: 50%;}#sk-container-id-19 div.sk-parallel-item:only-child::after {width: 0;}#sk-container-id-19 div.sk-dashed-wrapped {border: 1px dashed gray;margin: 0 0.4em 0.5em 0.4em;box-sizing: border-box;padding-bottom: 0.4em;background-color: white;}#sk-container-id-19 div.sk-label label {font-family: monospace;font-weight: bold;display: inline-block;line-height: 1.2em;}#sk-container-id-19 div.sk-label-container {text-align: center;}#sk-container-id-19 div.sk-container {/* jupyter's `normalize.less` sets `[hidden] { display: none; }` but bootstrap.min.css set `[hidden] { display: none !important; }` so we also need the `!important` here to be able to override the default hidden behavior on the sphinx rendered scikit-learn.org. See: https://github.com/scikit-learn/scikit-learn/issues/21755 */display: inline-block !important;position: relative;}#sk-container-id-19 div.sk-text-repr-fallback {display: none;}</style><div id=\"sk-container-id-19\" class=\"sk-top-container\"><div class=\"sk-text-repr-fallback\"><pre>KNeighborsClassifier(n_neighbors=1)</pre><b>In a Jupyter environment, please rerun this cell to show the HTML representation or trust the notebook. <br />On GitHub, the HTML representation is unable to render, please try loading this page with nbviewer.org.</b></div><div class=\"sk-container\" hidden><div class=\"sk-item\"><div class=\"sk-estimator sk-toggleable\"><input class=\"sk-toggleable__control sk-hidden--visually\" id=\"sk-estimator-id-19\" type=\"checkbox\" checked><label for=\"sk-estimator-id-19\" class=\"sk-toggleable__label sk-toggleable__label-arrow\">KNeighborsClassifier</label><div class=\"sk-toggleable__content\"><pre>KNeighborsClassifier(n_neighbors=1)</pre></div></div></div></div></div>"
            ]
          },
          "metadata": {},
          "execution_count": 568
        }
      ]
    },
    {
      "cell_type": "code",
      "source": [
        "#-----預測資料處理-----"
      ],
      "metadata": {
        "id": "ZGWCh9wxheIf"
      },
      "execution_count": 569,
      "outputs": []
    },
    {
      "cell_type": "code",
      "source": [
        "#取得 ValidationData.csv 的特徵\n",
        "temp_data_test = data_test.iloc[:, :520]"
      ],
      "metadata": {
        "id": "IYkZ6Kz0mC5V"
      },
      "execution_count": 570,
      "outputs": []
    },
    {
      "cell_type": "code",
      "source": [
        "print(knn.predict(temp_data_test))"
      ],
      "metadata": {
        "colab": {
          "base_uri": "https://localhost:8080/"
        },
        "id": "eAeLLlAFLxBf",
        "outputId": "e3d0438b-9d43-423f-ee8f-be4ee54b2773"
      },
      "execution_count": 571,
      "outputs": [
        {
          "output_type": "stream",
          "name": "stdout",
          "text": [
            "[3 0 2 2 1 0 1 0 0 0 0 0 0 0 1 2 1 0 0 0 0 0 1 0 0 0 0 0 0 0 1 0 0 0 0 0 0\n",
            " 0 0 0 1 1 1 1 1 1 1 1 1 1 1 1 1 1 1 0 0 0 0 0 0 0 0 0 0 0 0 1 1 1 1 1 1 1\n",
            " 2 1 0 1 1 1 1 1 1 1 0 0 1 1 1 0 1 0 1 0 0 0 1 1 0 0 0 0 0 0 2 2 2 2 2 2 3\n",
            " 2 1 3 2 2 2 1 1 1 1 1 1 1 1 1 1 2 1 3 1 3 2 3 1 1 2 0 0 0 0 1 0 3 3 3 3 3\n",
            " 3 3 2 3 0 3 3 3 3 3 3 2 3 3 3 2 3 0 1 3 1 1 1 1 3 1 1 1 3 3 3 3 3 1 0 1 1\n",
            " 0 1 1 1 2 2 2 3 2 2 2 2 3 3 3 2 3 2 2 2 0 2 2 3 2 3 2 2 2 2 3 2 2 2 2 2 2\n",
            " 2 2 2 1 1 0 1 0 2 1 1 1 1 1 1 1 2 1 0 1 0 0 1 1 0 1 1 1 1 0 1 1 1 1 1 1 1\n",
            " 1 1 2 1 1 3 3 2 2 2 2 3 3 3 3 3 2 1 1 1 1 1 1 1 1 1 1 0 1 1 2 1 1 2 1 1 3\n",
            " 1 2 1 3 1 1 1 1 2 2 0 1 1 3 1 1 3 1 3 2 3 1 2 3 1 3 3 3 1 2 2 2 2 2 2 2 3\n",
            " 3 1 2 2 2 3 3 2 2 3 2 2 2 2 2 3 2 1 1 2 2 3 2 1 2 2 2 2 1 2 0 3 1 2 2 2 2\n",
            " 1 3 2 2 0 2 1 2 1 1 1 1 1 2 1 0 3 1 2 1 2 1 0 0 2 1 2 1 2 1 2 1 1 2 0 3 1\n",
            " 3 0 2 2 1 2 1 0 1 2 1 3 2 1 1 1 0 1 3 3 1 0 3 1 3 3 1 1 1 3 3 2 3 3 3 2 1\n",
            " 3 2 3 0 1 3 1 1 1 3 1 1 3 3 2 3 3 3 3 3 3 0 3 3 3 3 0 2 0 3 0 2 0 3 3 3 3\n",
            " 3 3 1 0 0 2 2 2 3 3 2 0 3 2 2 1 1 3 3 0 2 3 3 1 2 2 3 0 3 2 2 2 2 2 2 3 3\n",
            " 0 2 2 2 3 2 1 0 1 3 1 2 3 3 1 0 0 0]\n"
          ]
        }
      ]
    },
    {
      "cell_type": "code",
      "source": [
        "data_pred_temp = []\n",
        "for index in knn.predict(temp_data_test):\n",
        "  data_pred_temp.append(index)\n",
        "print(data_pred_temp)"
      ],
      "metadata": {
        "colab": {
          "base_uri": "https://localhost:8080/"
        },
        "id": "Bb61nBybS88u",
        "outputId": "a9e126c6-fb1b-4f8f-af2e-1e0fead211a0"
      },
      "execution_count": 572,
      "outputs": [
        {
          "output_type": "stream",
          "name": "stdout",
          "text": [
            "[3, 0, 2, 2, 1, 0, 1, 0, 0, 0, 0, 0, 0, 0, 1, 2, 1, 0, 0, 0, 0, 0, 1, 0, 0, 0, 0, 0, 0, 0, 1, 0, 0, 0, 0, 0, 0, 0, 0, 0, 1, 1, 1, 1, 1, 1, 1, 1, 1, 1, 1, 1, 1, 1, 1, 0, 0, 0, 0, 0, 0, 0, 0, 0, 0, 0, 0, 1, 1, 1, 1, 1, 1, 1, 2, 1, 0, 1, 1, 1, 1, 1, 1, 1, 0, 0, 1, 1, 1, 0, 1, 0, 1, 0, 0, 0, 1, 1, 0, 0, 0, 0, 0, 0, 2, 2, 2, 2, 2, 2, 3, 2, 1, 3, 2, 2, 2, 1, 1, 1, 1, 1, 1, 1, 1, 1, 1, 2, 1, 3, 1, 3, 2, 3, 1, 1, 2, 0, 0, 0, 0, 1, 0, 3, 3, 3, 3, 3, 3, 3, 2, 3, 0, 3, 3, 3, 3, 3, 3, 2, 3, 3, 3, 2, 3, 0, 1, 3, 1, 1, 1, 1, 3, 1, 1, 1, 3, 3, 3, 3, 3, 1, 0, 1, 1, 0, 1, 1, 1, 2, 2, 2, 3, 2, 2, 2, 2, 3, 3, 3, 2, 3, 2, 2, 2, 0, 2, 2, 3, 2, 3, 2, 2, 2, 2, 3, 2, 2, 2, 2, 2, 2, 2, 2, 2, 1, 1, 0, 1, 0, 2, 1, 1, 1, 1, 1, 1, 1, 2, 1, 0, 1, 0, 0, 1, 1, 0, 1, 1, 1, 1, 0, 1, 1, 1, 1, 1, 1, 1, 1, 1, 2, 1, 1, 3, 3, 2, 2, 2, 2, 3, 3, 3, 3, 3, 2, 1, 1, 1, 1, 1, 1, 1, 1, 1, 1, 0, 1, 1, 2, 1, 1, 2, 1, 1, 3, 1, 2, 1, 3, 1, 1, 1, 1, 2, 2, 0, 1, 1, 3, 1, 1, 3, 1, 3, 2, 3, 1, 2, 3, 1, 3, 3, 3, 1, 2, 2, 2, 2, 2, 2, 2, 3, 3, 1, 2, 2, 2, 3, 3, 2, 2, 3, 2, 2, 2, 2, 2, 3, 2, 1, 1, 2, 2, 3, 2, 1, 2, 2, 2, 2, 1, 2, 0, 3, 1, 2, 2, 2, 2, 1, 3, 2, 2, 0, 2, 1, 2, 1, 1, 1, 1, 1, 2, 1, 0, 3, 1, 2, 1, 2, 1, 0, 0, 2, 1, 2, 1, 2, 1, 2, 1, 1, 2, 0, 3, 1, 3, 0, 2, 2, 1, 2, 1, 0, 1, 2, 1, 3, 2, 1, 1, 1, 0, 1, 3, 3, 1, 0, 3, 1, 3, 3, 1, 1, 1, 3, 3, 2, 3, 3, 3, 2, 1, 3, 2, 3, 0, 1, 3, 1, 1, 1, 3, 1, 1, 3, 3, 2, 3, 3, 3, 3, 3, 3, 0, 3, 3, 3, 3, 0, 2, 0, 3, 0, 2, 0, 3, 3, 3, 3, 3, 3, 1, 0, 0, 2, 2, 2, 3, 3, 2, 0, 3, 2, 2, 1, 1, 3, 3, 0, 2, 3, 3, 1, 2, 2, 3, 0, 3, 2, 2, 2, 2, 2, 2, 3, 3, 0, 2, 2, 2, 3, 2, 1, 0, 1, 3, 1, 2, 3, 3, 1, 0, 0, 0]\n"
          ]
        }
      ]
    },
    {
      "cell_type": "code",
      "source": [
        "#-----ValidationData.csv的資料處理-----"
      ],
      "metadata": {
        "id": "hUI-m6OshXkK"
      },
      "execution_count": 573,
      "outputs": []
    },
    {
      "cell_type": "code",
      "source": [
        "print(data_test.iloc[:, 522:523])\n",
        "print(data_test.iloc[:, 522:523][\"FLOOR\"])"
      ],
      "metadata": {
        "colab": {
          "base_uri": "https://localhost:8080/"
        },
        "id": "Yr9jGe5MMo33",
        "outputId": "5e2d63f1-c88d-4923-b3de-f2ce13fc8580"
      },
      "execution_count": 574,
      "outputs": [
        {
          "output_type": "stream",
          "name": "stdout",
          "text": [
            "     FLOOR\n",
            "0        2\n",
            "1        1\n",
            "2        2\n",
            "3        2\n",
            "4        1\n",
            "..     ...\n",
            "531      2\n",
            "532      1\n",
            "533      0\n",
            "534      0\n",
            "535      0\n",
            "\n",
            "[536 rows x 1 columns]\n",
            "0      2\n",
            "1      1\n",
            "2      2\n",
            "3      2\n",
            "4      1\n",
            "      ..\n",
            "531    2\n",
            "532    1\n",
            "533    0\n",
            "534    0\n",
            "535    0\n",
            "Name: FLOOR, Length: 536, dtype: int64\n"
          ]
        }
      ]
    },
    {
      "cell_type": "code",
      "source": [
        "data_test_temp = []\n",
        "for index in data_test.iloc[:, 522:523][\"FLOOR\"]:\n",
        "  data_test_temp.append(index)\n",
        "print(data_test_temp)"
      ],
      "metadata": {
        "colab": {
          "base_uri": "https://localhost:8080/"
        },
        "id": "R41EnMHjQ8A4",
        "outputId": "05c89996-846d-4523-84f7-8ff98d1d11d8"
      },
      "execution_count": 575,
      "outputs": [
        {
          "output_type": "stream",
          "name": "stdout",
          "text": [
            "[2, 1, 2, 2, 1, 0, 1, 0, 0, 0, 0, 0, 0, 0, 1, 1, 1, 0, 0, 0, 0, 0, 1, 0, 0, 0, 0, 0, 0, 0, 0, 0, 0, 0, 0, 0, 0, 0, 0, 0, 1, 1, 1, 1, 1, 1, 1, 1, 1, 1, 1, 1, 1, 1, 1, 0, 0, 0, 0, 0, 0, 0, 0, 0, 0, 0, 0, 1, 1, 1, 1, 1, 1, 1, 1, 1, 1, 1, 1, 1, 1, 1, 1, 1, 1, 1, 1, 1, 1, 1, 1, 1, 1, 1, 1, 1, 1, 1, 2, 0, 0, 0, 0, 0, 2, 2, 2, 2, 2, 2, 2, 2, 2, 2, 2, 2, 2, 1, 1, 1, 1, 1, 1, 1, 1, 1, 1, 2, 1, 2, 1, 2, 1, 2, 1, 1, 2, 0, 1, 2, 1, 1, 1, 3, 3, 3, 3, 3, 3, 3, 3, 3, 1, 3, 3, 3, 3, 3, 3, 3, 3, 3, 3, 3, 3, 1, 1, 3, 1, 1, 1, 1, 3, 1, 1, 1, 3, 3, 3, 3, 3, 1, 1, 1, 1, 1, 1, 1, 1, 2, 2, 2, 2, 2, 2, 2, 2, 2, 2, 2, 2, 2, 2, 2, 2, 2, 2, 2, 2, 2, 2, 2, 2, 2, 2, 2, 2, 2, 2, 2, 2, 2, 2, 2, 2, 1, 1, 1, 1, 0, 1, 1, 1, 1, 1, 1, 1, 1, 1, 1, 1, 1, 1, 1, 1, 1, 2, 1, 1, 1, 1, 1, 1, 1, 1, 1, 1, 1, 1, 1, 1, 1, 1, 1, 2, 2, 2, 2, 2, 2, 2, 2, 2, 2, 2, 2, 1, 1, 1, 1, 1, 1, 1, 1, 1, 2, 1, 2, 1, 2, 1, 1, 2, 1, 1, 3, 1, 2, 1, 3, 1, 1, 1, 1, 3, 2, 1, 2, 1, 3, 1, 0, 2, 1, 3, 2, 2, 1, 2, 3, 2, 2, 2, 2, 2, 2, 2, 2, 2, 2, 2, 2, 3, 2, 1, 2, 2, 2, 2, 3, 2, 2, 3, 2, 2, 1, 2, 2, 2, 2, 1, 1, 2, 3, 2, 2, 1, 2, 2, 2, 2, 1, 2, 0, 3, 1, 2, 2, 2, 2, 0, 3, 2, 2, 0, 2, 1, 1, 2, 1, 1, 1, 1, 1, 1, 0, 3, 1, 2, 0, 2, 1, 0, 0, 2, 1, 2, 1, 1, 1, 2, 1, 1, 2, 0, 3, 1, 2, 0, 3, 1, 1, 3, 1, 0, 1, 1, 1, 3, 2, 1, 1, 1, 2, 1, 3, 3, 1, 0, 3, 1, 3, 3, 1, 1, 1, 3, 3, 2, 3, 2, 3, 2, 1, 3, 2, 3, 3, 1, 3, 1, 1, 1, 2, 1, 1, 3, 3, 2, 3, 3, 3, 2, 3, 3, 3, 3, 3, 3, 3, 0, 2, 3, 3, 0, 1, 0, 3, 3, 2, 3, 3, 3, 1, 0, 0, 1, 2, 2, 3, 3, 2, 0, 3, 2, 2, 0, 1, 3, 3, 0, 0, 2, 3, 0, 2, 0, 2, 0, 3, 2, 2, 0, 2, 2, 2, 3, 2, 0, 2, 2, 2, 2, 2, 1, 1, 1, 2, 1, 2, 2, 2, 1, 0, 0, 0]\n"
          ]
        }
      ]
    },
    {
      "cell_type": "code",
      "source": [
        "#建構混淆矩陣\n",
        "confusion = []\n",
        "for k in range(4):\n",
        "  confusion.append([])\n",
        "  for l in range(4):\n",
        "    confusion[k].append(0)\n",
        "n = 0\n",
        "for i in data_pred_temp:\n",
        "  confusion[i][data_test_temp[n]] += 1\n",
        "  n += 1\n",
        "print(confusion)"
      ],
      "metadata": {
        "colab": {
          "base_uri": "https://localhost:8080/"
        },
        "id": "lETDsicUh0Ku",
        "outputId": "06c9086c-b379-4139-8d9a-0cb4d0c40055"
      },
      "execution_count": 576,
      "outputs": [
        {
          "output_type": "stream",
          "name": "stdout",
          "text": [
            "[[69, 24, 5, 3], [6, 170, 7, 0], [3, 14, 111, 7], [0, 0, 42, 75]]\n"
          ]
        }
      ]
    },
    {
      "cell_type": "code",
      "source": [
        "import sklearn.metrics as skm\n",
        "cm = skm.confusion_matrix(y_true = data_test_temp, y_pred = data_pred_temp)\n",
        "\n",
        "# 用 seaborn 畫\n",
        "import seaborn as sns\n",
        "plt.figure(figsize=(5, 3))\n",
        "labels=np.arange(4)\n",
        "sns.heatmap(\n",
        "    cm, xticklabels=labels, yticklabels=labels,\n",
        "    annot=True, linewidths=0.1, fmt='d', cmap='YlGnBu')\n",
        "plt.title('Confusion Matrix', fontsize=15)\n",
        "plt.ylabel('Actual label')\n",
        "plt.xlabel('Predict label')"
      ],
      "metadata": {
        "colab": {
          "base_uri": "https://localhost:8080/",
          "height": 356
        },
        "id": "6zp-ItzkM38g",
        "outputId": "7ae4a419-debf-4d61-805f-a59773e412ec"
      },
      "execution_count": 577,
      "outputs": [
        {
          "output_type": "execute_result",
          "data": {
            "text/plain": [
              "Text(0.5, 3.722222222222216, 'Predict label')"
            ]
          },
          "metadata": {},
          "execution_count": 577
        },
        {
          "output_type": "display_data",
          "data": {
            "text/plain": [
              "<Figure size 500x300 with 2 Axes>"
            ],
            "image/png": "[encoded data removed]"
          },
          "metadata": {}
        }
      ]
    },
    {
      "cell_type": "code",
      "source": [
        "from sklearn.metrics import accuracy_score\n",
        "print(\"準確率：\")\n",
        "print(accuracy_score(data_test_temp, data_pred_temp))"
      ],
      "metadata": {
        "colab": {
          "base_uri": "https://localhost:8080/"
        },
        "id": "9L503vUsTPwA",
        "outputId": "137cbdb3-7aca-4ac2-eef3-1d320bc358a8"
      },
      "execution_count": 578,
      "outputs": [
        {
          "output_type": "stream",
          "name": "stdout",
          "text": [
            "準確率：\n",
            "0.792910447761194\n"
          ]
        }
      ]
    }
  ]
}